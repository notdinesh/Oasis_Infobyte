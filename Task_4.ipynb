{
  "cells": [
    {
      "cell_type": "markdown",
      "id": "a3b1af8f",
      "metadata": {
        "id": "a3b1af8f"
      },
      "source": [
        "# Email spam detection with Machine Learning (TASK-4)"
      ]
    },
    {
      "cell_type": "code",
      "execution_count": null,
      "id": "58a71db6",
      "metadata": {
        "id": "58a71db6",
        "outputId": "84cd960d-9c5a-4b4a-bc23-6ba4ff21ab07"
      },
      "outputs": [
        {
          "data": {
            "text/html": [
              "<img src=\"https://www.pantechelearning.com/wp-content/uploads/2021/12/Spam-classification.png\" width=\"500\"/>"
            ],
            "text/plain": [
              "<IPython.core.display.Image object>"
            ]
          },
          "execution_count": 1,
          "metadata": {},
          "output_type": "execute_result"
        }
      ],
      "source": [
        "from IPython.display import Image\n",
        "Image(url='https://www.pantechelearning.com/wp-content/uploads/2021/12/Spam-classification.png', width=500)"
      ]
    },
    {
      "cell_type": "code",
      "execution_count": null,
      "id": "18ec72cc",
      "metadata": {
        "id": "18ec72cc"
      },
      "outputs": [],
      "source": [
        "import pandas as pd\n",
        "import numpy as np\n",
        "import seaborn as sns\n",
        "from matplotlib import pyplot as plt\n",
        "from sklearn.model_selection import train_test_split\n",
        "from sklearn.linear_model import LogisticRegression\n",
        "from sklearn.feature_extraction.text import TfidfVectorizer\n",
        "from sklearn.metrics import confusion_matrix,accuracy_score,classification_report"
      ]
    },
    {
      "cell_type": "code",
      "execution_count": null,
      "id": "48016618",
      "metadata": {
        "id": "48016618"
      },
      "outputs": [],
      "source": [
        "ds=pd.read_csv(\"C:\\Desktop\\spam.csv\",encoding='latin')"
      ]
    },
    {
      "cell_type": "code",
      "execution_count": null,
      "id": "671f14e3",
      "metadata": {
        "id": "671f14e3",
        "outputId": "9252a30d-d7c7-4909-a006-8299a1bab682"
      },
      "outputs": [
        {
          "data": {
            "text/html": [
              "<div>\n",
              "<style scoped>\n",
              "    .dataframe tbody tr th:only-of-type {\n",
              "        vertical-align: middle;\n",
              "    }\n",
              "\n",
              "    .dataframe tbody tr th {\n",
              "        vertical-align: top;\n",
              "    }\n",
              "\n",
              "    .dataframe thead th {\n",
              "        text-align: right;\n",
              "    }\n",
              "</style>\n",
              "<table border=\"1\" class=\"dataframe\">\n",
              "  <thead>\n",
              "    <tr style=\"text-align: right;\">\n",
              "      <th></th>\n",
              "      <th>v1</th>\n",
              "      <th>v2</th>\n",
              "      <th>Unnamed: 2</th>\n",
              "      <th>Unnamed: 3</th>\n",
              "      <th>Unnamed: 4</th>\n",
              "    </tr>\n",
              "  </thead>\n",
              "  <tbody>\n",
              "    <tr>\n",
              "      <th>0</th>\n",
              "      <td>ham</td>\n",
              "      <td>Go until jurong point, crazy.. Available only ...</td>\n",
              "      <td>NaN</td>\n",
              "      <td>NaN</td>\n",
              "      <td>NaN</td>\n",
              "    </tr>\n",
              "    <tr>\n",
              "      <th>1</th>\n",
              "      <td>ham</td>\n",
              "      <td>Ok lar... Joking wif u oni...</td>\n",
              "      <td>NaN</td>\n",
              "      <td>NaN</td>\n",
              "      <td>NaN</td>\n",
              "    </tr>\n",
              "    <tr>\n",
              "      <th>2</th>\n",
              "      <td>spam</td>\n",
              "      <td>Free entry in 2 a wkly comp to win FA Cup fina...</td>\n",
              "      <td>NaN</td>\n",
              "      <td>NaN</td>\n",
              "      <td>NaN</td>\n",
              "    </tr>\n",
              "    <tr>\n",
              "      <th>3</th>\n",
              "      <td>ham</td>\n",
              "      <td>U dun say so early hor... U c already then say...</td>\n",
              "      <td>NaN</td>\n",
              "      <td>NaN</td>\n",
              "      <td>NaN</td>\n",
              "    </tr>\n",
              "    <tr>\n",
              "      <th>4</th>\n",
              "      <td>ham</td>\n",
              "      <td>Nah I don't think he goes to usf, he lives aro...</td>\n",
              "      <td>NaN</td>\n",
              "      <td>NaN</td>\n",
              "      <td>NaN</td>\n",
              "    </tr>\n",
              "    <tr>\n",
              "      <th>...</th>\n",
              "      <td>...</td>\n",
              "      <td>...</td>\n",
              "      <td>...</td>\n",
              "      <td>...</td>\n",
              "      <td>...</td>\n",
              "    </tr>\n",
              "    <tr>\n",
              "      <th>5567</th>\n",
              "      <td>spam</td>\n",
              "      <td>This is the 2nd time we have tried 2 contact u...</td>\n",
              "      <td>NaN</td>\n",
              "      <td>NaN</td>\n",
              "      <td>NaN</td>\n",
              "    </tr>\n",
              "    <tr>\n",
              "      <th>5568</th>\n",
              "      <td>ham</td>\n",
              "      <td>Will Ì_ b going to esplanade fr home?</td>\n",
              "      <td>NaN</td>\n",
              "      <td>NaN</td>\n",
              "      <td>NaN</td>\n",
              "    </tr>\n",
              "    <tr>\n",
              "      <th>5569</th>\n",
              "      <td>ham</td>\n",
              "      <td>Pity, * was in mood for that. So...any other s...</td>\n",
              "      <td>NaN</td>\n",
              "      <td>NaN</td>\n",
              "      <td>NaN</td>\n",
              "    </tr>\n",
              "    <tr>\n",
              "      <th>5570</th>\n",
              "      <td>ham</td>\n",
              "      <td>The guy did some bitching but I acted like i'd...</td>\n",
              "      <td>NaN</td>\n",
              "      <td>NaN</td>\n",
              "      <td>NaN</td>\n",
              "    </tr>\n",
              "    <tr>\n",
              "      <th>5571</th>\n",
              "      <td>ham</td>\n",
              "      <td>Rofl. Its true to its name</td>\n",
              "      <td>NaN</td>\n",
              "      <td>NaN</td>\n",
              "      <td>NaN</td>\n",
              "    </tr>\n",
              "  </tbody>\n",
              "</table>\n",
              "<p>5572 rows × 5 columns</p>\n",
              "</div>"
            ],
            "text/plain": [
              "        v1                                                 v2 Unnamed: 2  \\\n",
              "0      ham  Go until jurong point, crazy.. Available only ...        NaN   \n",
              "1      ham                      Ok lar... Joking wif u oni...        NaN   \n",
              "2     spam  Free entry in 2 a wkly comp to win FA Cup fina...        NaN   \n",
              "3      ham  U dun say so early hor... U c already then say...        NaN   \n",
              "4      ham  Nah I don't think he goes to usf, he lives aro...        NaN   \n",
              "...    ...                                                ...        ...   \n",
              "5567  spam  This is the 2nd time we have tried 2 contact u...        NaN   \n",
              "5568   ham              Will Ì_ b going to esplanade fr home?        NaN   \n",
              "5569   ham  Pity, * was in mood for that. So...any other s...        NaN   \n",
              "5570   ham  The guy did some bitching but I acted like i'd...        NaN   \n",
              "5571   ham                         Rofl. Its true to its name        NaN   \n",
              "\n",
              "     Unnamed: 3 Unnamed: 4  \n",
              "0           NaN        NaN  \n",
              "1           NaN        NaN  \n",
              "2           NaN        NaN  \n",
              "3           NaN        NaN  \n",
              "4           NaN        NaN  \n",
              "...         ...        ...  \n",
              "5567        NaN        NaN  \n",
              "5568        NaN        NaN  \n",
              "5569        NaN        NaN  \n",
              "5570        NaN        NaN  \n",
              "5571        NaN        NaN  \n",
              "\n",
              "[5572 rows x 5 columns]"
            ]
          },
          "execution_count": 4,
          "metadata": {},
          "output_type": "execute_result"
        }
      ],
      "source": [
        "ds"
      ]
    },
    {
      "cell_type": "code",
      "execution_count": null,
      "id": "9e09d56d",
      "metadata": {
        "id": "9e09d56d",
        "outputId": "d8426cee-e3fb-46e5-cc91-5f11eab8bdca"
      },
      "outputs": [
        {
          "data": {
            "text/html": [
              "<div>\n",
              "<style scoped>\n",
              "    .dataframe tbody tr th:only-of-type {\n",
              "        vertical-align: middle;\n",
              "    }\n",
              "\n",
              "    .dataframe tbody tr th {\n",
              "        vertical-align: top;\n",
              "    }\n",
              "\n",
              "    .dataframe thead th {\n",
              "        text-align: right;\n",
              "    }\n",
              "</style>\n",
              "<table border=\"1\" class=\"dataframe\">\n",
              "  <thead>\n",
              "    <tr style=\"text-align: right;\">\n",
              "      <th></th>\n",
              "      <th>v1</th>\n",
              "      <th>v2</th>\n",
              "      <th>Unnamed: 2</th>\n",
              "      <th>Unnamed: 3</th>\n",
              "      <th>Unnamed: 4</th>\n",
              "    </tr>\n",
              "  </thead>\n",
              "  <tbody>\n",
              "    <tr>\n",
              "      <th>2685</th>\n",
              "      <td>spam</td>\n",
              "      <td>URGENT! We are trying to contact U. Todays dra...</td>\n",
              "      <td>NaN</td>\n",
              "      <td>NaN</td>\n",
              "      <td>NaN</td>\n",
              "    </tr>\n",
              "    <tr>\n",
              "      <th>4644</th>\n",
              "      <td>ham</td>\n",
              "      <td>Are you planning to come chennai?</td>\n",
              "      <td>NaN</td>\n",
              "      <td>NaN</td>\n",
              "      <td>NaN</td>\n",
              "    </tr>\n",
              "    <tr>\n",
              "      <th>3657</th>\n",
              "      <td>ham</td>\n",
              "      <td>R u here yet? I'm wearing blue shirt n black p...</td>\n",
              "      <td>NaN</td>\n",
              "      <td>NaN</td>\n",
              "      <td>NaN</td>\n",
              "    </tr>\n",
              "    <tr>\n",
              "      <th>110</th>\n",
              "      <td>ham</td>\n",
              "      <td>What is the plural of the noun research?</td>\n",
              "      <td>NaN</td>\n",
              "      <td>NaN</td>\n",
              "      <td>NaN</td>\n",
              "    </tr>\n",
              "    <tr>\n",
              "      <th>33</th>\n",
              "      <td>ham</td>\n",
              "      <td>For fear of fainting with the of all that hous...</td>\n",
              "      <td>NaN</td>\n",
              "      <td>NaN</td>\n",
              "      <td>NaN</td>\n",
              "    </tr>\n",
              "    <tr>\n",
              "      <th>5083</th>\n",
              "      <td>ham</td>\n",
              "      <td>Aiya we discuss later lar... Pick Ì_ up at 4 i...</td>\n",
              "      <td>NaN</td>\n",
              "      <td>NaN</td>\n",
              "      <td>NaN</td>\n",
              "    </tr>\n",
              "    <tr>\n",
              "      <th>4120</th>\n",
              "      <td>ham</td>\n",
              "      <td>Yunny... I'm goin to be late</td>\n",
              "      <td>NaN</td>\n",
              "      <td>NaN</td>\n",
              "      <td>NaN</td>\n",
              "    </tr>\n",
              "    <tr>\n",
              "      <th>491</th>\n",
              "      <td>spam</td>\n",
              "      <td>Congrats! 1 year special cinema pass for 2 is ...</td>\n",
              "      <td>NaN</td>\n",
              "      <td>NaN</td>\n",
              "      <td>NaN</td>\n",
              "    </tr>\n",
              "    <tr>\n",
              "      <th>3848</th>\n",
              "      <td>ham</td>\n",
              "      <td>U in town alone?</td>\n",
              "      <td>NaN</td>\n",
              "      <td>NaN</td>\n",
              "      <td>NaN</td>\n",
              "    </tr>\n",
              "    <tr>\n",
              "      <th>4822</th>\n",
              "      <td>ham</td>\n",
              "      <td>:-) :-)</td>\n",
              "      <td>NaN</td>\n",
              "      <td>NaN</td>\n",
              "      <td>NaN</td>\n",
              "    </tr>\n",
              "  </tbody>\n",
              "</table>\n",
              "</div>"
            ],
            "text/plain": [
              "        v1                                                 v2 Unnamed: 2  \\\n",
              "2685  spam  URGENT! We are trying to contact U. Todays dra...        NaN   \n",
              "4644   ham                  Are you planning to come chennai?        NaN   \n",
              "3657   ham  R u here yet? I'm wearing blue shirt n black p...        NaN   \n",
              "110    ham           What is the plural of the noun research?        NaN   \n",
              "33     ham  For fear of fainting with the of all that hous...        NaN   \n",
              "5083   ham  Aiya we discuss later lar... Pick Ì_ up at 4 i...        NaN   \n",
              "4120   ham                       Yunny... I'm goin to be late        NaN   \n",
              "491   spam  Congrats! 1 year special cinema pass for 2 is ...        NaN   \n",
              "3848   ham                                   U in town alone?        NaN   \n",
              "4822   ham                                            :-) :-)        NaN   \n",
              "\n",
              "     Unnamed: 3 Unnamed: 4  \n",
              "2685        NaN        NaN  \n",
              "4644        NaN        NaN  \n",
              "3657        NaN        NaN  \n",
              "110         NaN        NaN  \n",
              "33          NaN        NaN  \n",
              "5083        NaN        NaN  \n",
              "4120        NaN        NaN  \n",
              "491         NaN        NaN  \n",
              "3848        NaN        NaN  \n",
              "4822        NaN        NaN  "
            ]
          },
          "execution_count": 5,
          "metadata": {},
          "output_type": "execute_result"
        }
      ],
      "source": [
        "ds.sample(10)"
      ]
    },
    {
      "cell_type": "code",
      "execution_count": null,
      "id": "da2adcb9",
      "metadata": {
        "id": "da2adcb9",
        "outputId": "08db2541-b95a-422c-dfeb-269e81533cb8"
      },
      "outputs": [
        {
          "data": {
            "text/plain": [
              "(5572, 5)"
            ]
          },
          "execution_count": 6,
          "metadata": {},
          "output_type": "execute_result"
        }
      ],
      "source": [
        "ds.shape"
      ]
    },
    {
      "cell_type": "code",
      "execution_count": null,
      "id": "36e43ca9",
      "metadata": {
        "id": "36e43ca9",
        "outputId": "891ac9db-b5c6-4b62-e620-f7d02daf3939"
      },
      "outputs": [
        {
          "name": "stdout",
          "output_type": "stream",
          "text": [
            "Rows---> 5572\n",
            "Columns---> 5\n"
          ]
        }
      ],
      "source": [
        "print(\"Rows--->\",ds.shape[0])\n",
        "print(\"Columns--->\",ds.shape[1])"
      ]
    },
    {
      "cell_type": "code",
      "execution_count": null,
      "id": "14949ef6",
      "metadata": {
        "id": "14949ef6",
        "outputId": "04e9b8b0-6bf0-4c5e-ffa4-2389b584fc76"
      },
      "outputs": [
        {
          "data": {
            "text/html": [
              "<div>\n",
              "<style scoped>\n",
              "    .dataframe tbody tr th:only-of-type {\n",
              "        vertical-align: middle;\n",
              "    }\n",
              "\n",
              "    .dataframe tbody tr th {\n",
              "        vertical-align: top;\n",
              "    }\n",
              "\n",
              "    .dataframe thead th {\n",
              "        text-align: right;\n",
              "    }\n",
              "</style>\n",
              "<table border=\"1\" class=\"dataframe\">\n",
              "  <thead>\n",
              "    <tr style=\"text-align: right;\">\n",
              "      <th></th>\n",
              "      <th>v1</th>\n",
              "      <th>v2</th>\n",
              "      <th>Unnamed: 2</th>\n",
              "      <th>Unnamed: 3</th>\n",
              "      <th>Unnamed: 4</th>\n",
              "    </tr>\n",
              "  </thead>\n",
              "  <tbody>\n",
              "    <tr>\n",
              "      <th>0</th>\n",
              "      <td>False</td>\n",
              "      <td>False</td>\n",
              "      <td>True</td>\n",
              "      <td>True</td>\n",
              "      <td>True</td>\n",
              "    </tr>\n",
              "    <tr>\n",
              "      <th>1</th>\n",
              "      <td>False</td>\n",
              "      <td>False</td>\n",
              "      <td>True</td>\n",
              "      <td>True</td>\n",
              "      <td>True</td>\n",
              "    </tr>\n",
              "    <tr>\n",
              "      <th>2</th>\n",
              "      <td>False</td>\n",
              "      <td>False</td>\n",
              "      <td>True</td>\n",
              "      <td>True</td>\n",
              "      <td>True</td>\n",
              "    </tr>\n",
              "    <tr>\n",
              "      <th>3</th>\n",
              "      <td>False</td>\n",
              "      <td>False</td>\n",
              "      <td>True</td>\n",
              "      <td>True</td>\n",
              "      <td>True</td>\n",
              "    </tr>\n",
              "    <tr>\n",
              "      <th>4</th>\n",
              "      <td>False</td>\n",
              "      <td>False</td>\n",
              "      <td>True</td>\n",
              "      <td>True</td>\n",
              "      <td>True</td>\n",
              "    </tr>\n",
              "    <tr>\n",
              "      <th>...</th>\n",
              "      <td>...</td>\n",
              "      <td>...</td>\n",
              "      <td>...</td>\n",
              "      <td>...</td>\n",
              "      <td>...</td>\n",
              "    </tr>\n",
              "    <tr>\n",
              "      <th>5567</th>\n",
              "      <td>False</td>\n",
              "      <td>False</td>\n",
              "      <td>True</td>\n",
              "      <td>True</td>\n",
              "      <td>True</td>\n",
              "    </tr>\n",
              "    <tr>\n",
              "      <th>5568</th>\n",
              "      <td>False</td>\n",
              "      <td>False</td>\n",
              "      <td>True</td>\n",
              "      <td>True</td>\n",
              "      <td>True</td>\n",
              "    </tr>\n",
              "    <tr>\n",
              "      <th>5569</th>\n",
              "      <td>False</td>\n",
              "      <td>False</td>\n",
              "      <td>True</td>\n",
              "      <td>True</td>\n",
              "      <td>True</td>\n",
              "    </tr>\n",
              "    <tr>\n",
              "      <th>5570</th>\n",
              "      <td>False</td>\n",
              "      <td>False</td>\n",
              "      <td>True</td>\n",
              "      <td>True</td>\n",
              "      <td>True</td>\n",
              "    </tr>\n",
              "    <tr>\n",
              "      <th>5571</th>\n",
              "      <td>False</td>\n",
              "      <td>False</td>\n",
              "      <td>True</td>\n",
              "      <td>True</td>\n",
              "      <td>True</td>\n",
              "    </tr>\n",
              "  </tbody>\n",
              "</table>\n",
              "<p>5572 rows × 5 columns</p>\n",
              "</div>"
            ],
            "text/plain": [
              "         v1     v2  Unnamed: 2  Unnamed: 3  Unnamed: 4\n",
              "0     False  False        True        True        True\n",
              "1     False  False        True        True        True\n",
              "2     False  False        True        True        True\n",
              "3     False  False        True        True        True\n",
              "4     False  False        True        True        True\n",
              "...     ...    ...         ...         ...         ...\n",
              "5567  False  False        True        True        True\n",
              "5568  False  False        True        True        True\n",
              "5569  False  False        True        True        True\n",
              "5570  False  False        True        True        True\n",
              "5571  False  False        True        True        True\n",
              "\n",
              "[5572 rows x 5 columns]"
            ]
          },
          "execution_count": 8,
          "metadata": {},
          "output_type": "execute_result"
        }
      ],
      "source": [
        "ds.isnull()"
      ]
    },
    {
      "cell_type": "code",
      "execution_count": null,
      "id": "d9fa96f3",
      "metadata": {
        "id": "d9fa96f3",
        "outputId": "5ca8af4c-becb-4516-e208-f8f8c067962d"
      },
      "outputs": [
        {
          "data": {
            "text/plain": [
              "v1               0\n",
              "v2               0\n",
              "Unnamed: 2    5522\n",
              "Unnamed: 3    5560\n",
              "Unnamed: 4    5566\n",
              "dtype: int64"
            ]
          },
          "execution_count": 9,
          "metadata": {},
          "output_type": "execute_result"
        }
      ],
      "source": [
        "ds.isnull().sum()"
      ]
    },
    {
      "cell_type": "code",
      "execution_count": null,
      "id": "f7ecc3bb",
      "metadata": {
        "id": "f7ecc3bb",
        "outputId": "80568ccf-cd5d-4089-940b-80f2099c5dd2"
      },
      "outputs": [
        {
          "data": {
            "text/plain": [
              "Index(['v1', 'v2', 'Unnamed: 2', 'Unnamed: 3', 'Unnamed: 4'], dtype='object')"
            ]
          },
          "execution_count": 10,
          "metadata": {},
          "output_type": "execute_result"
        }
      ],
      "source": [
        "ds.columns"
      ]
    },
    {
      "cell_type": "code",
      "execution_count": null,
      "id": "3fcec881",
      "metadata": {
        "id": "3fcec881",
        "outputId": "ed5bd6db-aa37-474d-80fa-3a925d1cfb86"
      },
      "outputs": [
        {
          "data": {
            "text/plain": [
              "v1            0.000000\n",
              "v2            0.000000\n",
              "Unnamed: 2    0.991027\n",
              "Unnamed: 3    0.997846\n",
              "Unnamed: 4    0.998923\n",
              "dtype: float64"
            ]
          },
          "execution_count": 11,
          "metadata": {},
          "output_type": "execute_result"
        }
      ],
      "source": [
        "ds.isna().mean()"
      ]
    },
    {
      "cell_type": "code",
      "execution_count": null,
      "id": "81f6bc67",
      "metadata": {
        "id": "81f6bc67"
      },
      "outputs": [],
      "source": [
        "ds.drop(columns=['Unnamed: 2','Unnamed: 3','Unnamed: 4'],axis=0,inplace=True)"
      ]
    },
    {
      "cell_type": "code",
      "execution_count": null,
      "id": "40016f13",
      "metadata": {
        "id": "40016f13",
        "outputId": "6046c69d-6971-43e1-bf48-9af2c9f7b5bf"
      },
      "outputs": [
        {
          "data": {
            "text/html": [
              "<div>\n",
              "<style scoped>\n",
              "    .dataframe tbody tr th:only-of-type {\n",
              "        vertical-align: middle;\n",
              "    }\n",
              "\n",
              "    .dataframe tbody tr th {\n",
              "        vertical-align: top;\n",
              "    }\n",
              "\n",
              "    .dataframe thead th {\n",
              "        text-align: right;\n",
              "    }\n",
              "</style>\n",
              "<table border=\"1\" class=\"dataframe\">\n",
              "  <thead>\n",
              "    <tr style=\"text-align: right;\">\n",
              "      <th></th>\n",
              "      <th>v1</th>\n",
              "      <th>v2</th>\n",
              "    </tr>\n",
              "  </thead>\n",
              "  <tbody>\n",
              "    <tr>\n",
              "      <th>0</th>\n",
              "      <td>ham</td>\n",
              "      <td>Go until jurong point, crazy.. Available only ...</td>\n",
              "    </tr>\n",
              "    <tr>\n",
              "      <th>1</th>\n",
              "      <td>ham</td>\n",
              "      <td>Ok lar... Joking wif u oni...</td>\n",
              "    </tr>\n",
              "    <tr>\n",
              "      <th>2</th>\n",
              "      <td>spam</td>\n",
              "      <td>Free entry in 2 a wkly comp to win FA Cup fina...</td>\n",
              "    </tr>\n",
              "    <tr>\n",
              "      <th>3</th>\n",
              "      <td>ham</td>\n",
              "      <td>U dun say so early hor... U c already then say...</td>\n",
              "    </tr>\n",
              "    <tr>\n",
              "      <th>4</th>\n",
              "      <td>ham</td>\n",
              "      <td>Nah I don't think he goes to usf, he lives aro...</td>\n",
              "    </tr>\n",
              "    <tr>\n",
              "      <th>...</th>\n",
              "      <td>...</td>\n",
              "      <td>...</td>\n",
              "    </tr>\n",
              "    <tr>\n",
              "      <th>5567</th>\n",
              "      <td>spam</td>\n",
              "      <td>This is the 2nd time we have tried 2 contact u...</td>\n",
              "    </tr>\n",
              "    <tr>\n",
              "      <th>5568</th>\n",
              "      <td>ham</td>\n",
              "      <td>Will Ì_ b going to esplanade fr home?</td>\n",
              "    </tr>\n",
              "    <tr>\n",
              "      <th>5569</th>\n",
              "      <td>ham</td>\n",
              "      <td>Pity, * was in mood for that. So...any other s...</td>\n",
              "    </tr>\n",
              "    <tr>\n",
              "      <th>5570</th>\n",
              "      <td>ham</td>\n",
              "      <td>The guy did some bitching but I acted like i'd...</td>\n",
              "    </tr>\n",
              "    <tr>\n",
              "      <th>5571</th>\n",
              "      <td>ham</td>\n",
              "      <td>Rofl. Its true to its name</td>\n",
              "    </tr>\n",
              "  </tbody>\n",
              "</table>\n",
              "<p>5572 rows × 2 columns</p>\n",
              "</div>"
            ],
            "text/plain": [
              "        v1                                                 v2\n",
              "0      ham  Go until jurong point, crazy.. Available only ...\n",
              "1      ham                      Ok lar... Joking wif u oni...\n",
              "2     spam  Free entry in 2 a wkly comp to win FA Cup fina...\n",
              "3      ham  U dun say so early hor... U c already then say...\n",
              "4      ham  Nah I don't think he goes to usf, he lives aro...\n",
              "...    ...                                                ...\n",
              "5567  spam  This is the 2nd time we have tried 2 contact u...\n",
              "5568   ham              Will Ì_ b going to esplanade fr home?\n",
              "5569   ham  Pity, * was in mood for that. So...any other s...\n",
              "5570   ham  The guy did some bitching but I acted like i'd...\n",
              "5571   ham                         Rofl. Its true to its name\n",
              "\n",
              "[5572 rows x 2 columns]"
            ]
          },
          "execution_count": 13,
          "metadata": {},
          "output_type": "execute_result"
        }
      ],
      "source": [
        "ds"
      ]
    },
    {
      "cell_type": "code",
      "execution_count": null,
      "id": "5ef9f2c4",
      "metadata": {
        "id": "5ef9f2c4",
        "outputId": "4d4a584a-ad34-4b07-8b6d-60ce19471580"
      },
      "outputs": [
        {
          "data": {
            "text/plain": [
              "(5572, 2)"
            ]
          },
          "execution_count": 14,
          "metadata": {},
          "output_type": "execute_result"
        }
      ],
      "source": [
        "ds.shape"
      ]
    },
    {
      "cell_type": "code",
      "execution_count": null,
      "id": "9d4d6969",
      "metadata": {
        "id": "9d4d6969"
      },
      "outputs": [],
      "source": [
        "ds.columns=['spam/ham','SMS']"
      ]
    },
    {
      "cell_type": "code",
      "execution_count": null,
      "id": "7da2ab72",
      "metadata": {
        "id": "7da2ab72"
      },
      "outputs": [],
      "source": [
        "ds.loc[ds['spam/ham'] == 'spam', 'spam/ham',] = 0\n",
        "ds.loc[ds['spam/ham'] == 'ham', 'spam/ham',] = 1"
      ]
    },
    {
      "cell_type": "code",
      "execution_count": null,
      "id": "cedad0c3",
      "metadata": {
        "id": "cedad0c3",
        "outputId": "629f8f5b-48a7-4805-edbe-d495de7a1d67"
      },
      "outputs": [
        {
          "data": {
            "text/html": [
              "<div>\n",
              "<style scoped>\n",
              "    .dataframe tbody tr th:only-of-type {\n",
              "        vertical-align: middle;\n",
              "    }\n",
              "\n",
              "    .dataframe tbody tr th {\n",
              "        vertical-align: top;\n",
              "    }\n",
              "\n",
              "    .dataframe thead th {\n",
              "        text-align: right;\n",
              "    }\n",
              "</style>\n",
              "<table border=\"1\" class=\"dataframe\">\n",
              "  <thead>\n",
              "    <tr style=\"text-align: right;\">\n",
              "      <th></th>\n",
              "      <th>spam/ham</th>\n",
              "      <th>SMS</th>\n",
              "    </tr>\n",
              "  </thead>\n",
              "  <tbody>\n",
              "    <tr>\n",
              "      <th>0</th>\n",
              "      <td>1</td>\n",
              "      <td>Go until jurong point, crazy.. Available only ...</td>\n",
              "    </tr>\n",
              "    <tr>\n",
              "      <th>1</th>\n",
              "      <td>1</td>\n",
              "      <td>Ok lar... Joking wif u oni...</td>\n",
              "    </tr>\n",
              "    <tr>\n",
              "      <th>2</th>\n",
              "      <td>0</td>\n",
              "      <td>Free entry in 2 a wkly comp to win FA Cup fina...</td>\n",
              "    </tr>\n",
              "    <tr>\n",
              "      <th>3</th>\n",
              "      <td>1</td>\n",
              "      <td>U dun say so early hor... U c already then say...</td>\n",
              "    </tr>\n",
              "    <tr>\n",
              "      <th>4</th>\n",
              "      <td>1</td>\n",
              "      <td>Nah I don't think he goes to usf, he lives aro...</td>\n",
              "    </tr>\n",
              "    <tr>\n",
              "      <th>...</th>\n",
              "      <td>...</td>\n",
              "      <td>...</td>\n",
              "    </tr>\n",
              "    <tr>\n",
              "      <th>5567</th>\n",
              "      <td>0</td>\n",
              "      <td>This is the 2nd time we have tried 2 contact u...</td>\n",
              "    </tr>\n",
              "    <tr>\n",
              "      <th>5568</th>\n",
              "      <td>1</td>\n",
              "      <td>Will Ì_ b going to esplanade fr home?</td>\n",
              "    </tr>\n",
              "    <tr>\n",
              "      <th>5569</th>\n",
              "      <td>1</td>\n",
              "      <td>Pity, * was in mood for that. So...any other s...</td>\n",
              "    </tr>\n",
              "    <tr>\n",
              "      <th>5570</th>\n",
              "      <td>1</td>\n",
              "      <td>The guy did some bitching but I acted like i'd...</td>\n",
              "    </tr>\n",
              "    <tr>\n",
              "      <th>5571</th>\n",
              "      <td>1</td>\n",
              "      <td>Rofl. Its true to its name</td>\n",
              "    </tr>\n",
              "  </tbody>\n",
              "</table>\n",
              "<p>5572 rows × 2 columns</p>\n",
              "</div>"
            ],
            "text/plain": [
              "     spam/ham                                                SMS\n",
              "0           1  Go until jurong point, crazy.. Available only ...\n",
              "1           1                      Ok lar... Joking wif u oni...\n",
              "2           0  Free entry in 2 a wkly comp to win FA Cup fina...\n",
              "3           1  U dun say so early hor... U c already then say...\n",
              "4           1  Nah I don't think he goes to usf, he lives aro...\n",
              "...       ...                                                ...\n",
              "5567        0  This is the 2nd time we have tried 2 contact u...\n",
              "5568        1              Will Ì_ b going to esplanade fr home?\n",
              "5569        1  Pity, * was in mood for that. So...any other s...\n",
              "5570        1  The guy did some bitching but I acted like i'd...\n",
              "5571        1                         Rofl. Its true to its name\n",
              "\n",
              "[5572 rows x 2 columns]"
            ]
          },
          "execution_count": 17,
          "metadata": {},
          "output_type": "execute_result"
        }
      ],
      "source": [
        "ds"
      ]
    },
    {
      "cell_type": "markdown",
      "id": "239b185f",
      "metadata": {
        "id": "239b185f"
      },
      "source": [
        "## Train the model with spam dataset"
      ]
    },
    {
      "cell_type": "code",
      "execution_count": null,
      "id": "aa9a1d7b",
      "metadata": {
        "id": "aa9a1d7b",
        "outputId": "75165707-d61e-4140-8433-54371364c2bd"
      },
      "outputs": [
        {
          "data": {
            "text/plain": [
              "0       Go until jurong point, crazy.. Available only ...\n",
              "1                           Ok lar... Joking wif u oni...\n",
              "2       Free entry in 2 a wkly comp to win FA Cup fina...\n",
              "3       U dun say so early hor... U c already then say...\n",
              "4       Nah I don't think he goes to usf, he lives aro...\n",
              "                              ...                        \n",
              "5567    This is the 2nd time we have tried 2 contact u...\n",
              "5568                Will Ì_ b going to esplanade fr home?\n",
              "5569    Pity, * was in mood for that. So...any other s...\n",
              "5570    The guy did some bitching but I acted like i'd...\n",
              "5571                           Rofl. Its true to its name\n",
              "Name: SMS, Length: 5572, dtype: object"
            ]
          },
          "execution_count": 18,
          "metadata": {},
          "output_type": "execute_result"
        }
      ],
      "source": [
        "x=ds.SMS\n",
        "x"
      ]
    },
    {
      "cell_type": "code",
      "execution_count": null,
      "id": "21cd98ae",
      "metadata": {
        "id": "21cd98ae",
        "outputId": "d2d99174-8f22-476c-afcc-75c6088ec4f1"
      },
      "outputs": [
        {
          "data": {
            "text/plain": [
              "0       1\n",
              "1       1\n",
              "2       0\n",
              "3       1\n",
              "4       1\n",
              "       ..\n",
              "5567    0\n",
              "5568    1\n",
              "5569    1\n",
              "5570    1\n",
              "5571    1\n",
              "Name: spam/ham, Length: 5572, dtype: object"
            ]
          },
          "execution_count": 19,
          "metadata": {},
          "output_type": "execute_result"
        }
      ],
      "source": [
        "y=ds['spam/ham']\n",
        "y"
      ]
    },
    {
      "cell_type": "code",
      "execution_count": null,
      "id": "16cf0577",
      "metadata": {
        "id": "16cf0577"
      },
      "outputs": [],
      "source": [
        "xtrain,xtest,ytrain,ytest=train_test_split(x,y,test_size=0.2,random_state=3)"
      ]
    },
    {
      "cell_type": "code",
      "execution_count": null,
      "id": "d85f655c",
      "metadata": {
        "id": "d85f655c",
        "outputId": "06e0e86c-4103-4b1e-996e-d6e1a0f926f2"
      },
      "outputs": [
        {
          "name": "stdout",
          "output_type": "stream",
          "text": [
            "(5572,)\n"
          ]
        }
      ],
      "source": [
        "print(x.shape)"
      ]
    },
    {
      "cell_type": "code",
      "execution_count": null,
      "id": "6970f294",
      "metadata": {
        "id": "6970f294",
        "outputId": "958b9305-296e-45c7-a4dd-21d1f4314b4a"
      },
      "outputs": [
        {
          "name": "stdout",
          "output_type": "stream",
          "text": [
            "(4457,)\n"
          ]
        }
      ],
      "source": [
        "print(xtrain.shape)"
      ]
    },
    {
      "cell_type": "code",
      "execution_count": null,
      "id": "2b088241",
      "metadata": {
        "id": "2b088241",
        "outputId": "9374c521-6acb-4fc0-ef32-959dd21558ca"
      },
      "outputs": [
        {
          "name": "stdout",
          "output_type": "stream",
          "text": [
            "(1115,)\n"
          ]
        }
      ],
      "source": [
        "print(xtest.shape)"
      ]
    },
    {
      "cell_type": "code",
      "execution_count": null,
      "id": "4aa56fe1",
      "metadata": {
        "id": "4aa56fe1",
        "outputId": "5386977e-26eb-4bf6-ad75-50302e8f49ed"
      },
      "outputs": [
        {
          "name": "stdout",
          "output_type": "stream",
          "text": [
            "(4457,)\n"
          ]
        }
      ],
      "source": [
        "print(ytrain.shape)"
      ]
    },
    {
      "cell_type": "code",
      "execution_count": null,
      "id": "7274c144",
      "metadata": {
        "id": "7274c144",
        "outputId": "84a9f976-4df8-4f07-ef26-749fc2b20a74"
      },
      "outputs": [
        {
          "name": "stdout",
          "output_type": "stream",
          "text": [
            "(1115,)\n"
          ]
        }
      ],
      "source": [
        "print(ytest.shape)"
      ]
    },
    {
      "cell_type": "code",
      "execution_count": null,
      "id": "b9d76617",
      "metadata": {
        "id": "b9d76617",
        "outputId": "6918cd72-b2d8-43bd-e0cc-604027e028cb"
      },
      "outputs": [
        {
          "data": {
            "text/plain": [
              "(3075    Mum, hope you are having a great day. Hoping t...\n",
              " 1787                           Yes:)sura in sun tv.:)lol.\n",
              " 1614    Me sef dey laugh you. Meanwhile how's my darli...\n",
              " 4304                Yo come over carlos will be here soon\n",
              " 3266                    Ok then i come n pick u at engin?\n",
              "                               ...                        \n",
              " 789                          Gud mrng dear hav a nice day\n",
              " 968             Are you willing to go for aptitude class.\n",
              " 1667    So now my dad is gonna call after he gets out ...\n",
              " 3321    Ok darlin i supose it was ok i just worry too ...\n",
              " 1688                     Nan sonathaya soladha. Why boss?\n",
              " Name: SMS, Length: 4457, dtype: object,\n",
              " 2632                       I WILL CAL YOU SIR. In meeting\n",
              " 454     Loan for any purpose å£500 - å£75,000. Homeown...\n",
              " 983     LOOK AT THE FUCKIN TIME. WHAT THE FUCK YOU THI...\n",
              " 1282    Ever green quote ever told by Jerry in cartoon...\n",
              " 4610                                  Wat time Ì_ finish?\n",
              "                               ...                        \n",
              " 4827    Lol no. Just trying to make your day a little ...\n",
              " 5291      Xy trying smth now. U eat already? We havent...\n",
              " 3325    Huh so fast... Dat means u havent finished pai...\n",
              " 3561    Still chance there. If you search hard you wil...\n",
              " 1136    Dont forget you can place as many FREE Request...\n",
              " Name: SMS, Length: 1115, dtype: object)"
            ]
          },
          "execution_count": 26,
          "metadata": {},
          "output_type": "execute_result"
        }
      ],
      "source": [
        "xtrain,xtest"
      ]
    },
    {
      "cell_type": "code",
      "execution_count": null,
      "id": "bf96856f",
      "metadata": {
        "id": "bf96856f",
        "outputId": "6320569c-e08e-4a65-b67b-05465414ef68"
      },
      "outputs": [
        {
          "data": {
            "text/plain": [
              "(3075    1\n",
              " 1787    1\n",
              " 1614    1\n",
              " 4304    1\n",
              " 3266    1\n",
              "        ..\n",
              " 789     1\n",
              " 968     1\n",
              " 1667    1\n",
              " 3321    1\n",
              " 1688    1\n",
              " Name: spam/ham, Length: 4457, dtype: object,\n",
              " 2632    1\n",
              " 454     0\n",
              " 983     1\n",
              " 1282    1\n",
              " 4610    1\n",
              "        ..\n",
              " 4827    1\n",
              " 5291    1\n",
              " 3325    1\n",
              " 3561    1\n",
              " 1136    0\n",
              " Name: spam/ham, Length: 1115, dtype: object)"
            ]
          },
          "execution_count": 27,
          "metadata": {},
          "output_type": "execute_result"
        }
      ],
      "source": [
        "ytrain,ytest"
      ]
    },
    {
      "cell_type": "code",
      "execution_count": null,
      "id": "044ea0ca",
      "metadata": {
        "id": "044ea0ca",
        "outputId": "388de9ad-5a39-4a26-dcdd-357bf6b93268"
      },
      "outputs": [
        {
          "data": {
            "text/html": [
              "<style>#sk-container-id-1 {color: black;background-color: white;}#sk-container-id-1 pre{padding: 0;}#sk-container-id-1 div.sk-toggleable {background-color: white;}#sk-container-id-1 label.sk-toggleable__label {cursor: pointer;display: block;width: 100%;margin-bottom: 0;padding: 0.3em;box-sizing: border-box;text-align: center;}#sk-container-id-1 label.sk-toggleable__label-arrow:before {content: \"▸\";float: left;margin-right: 0.25em;color: #696969;}#sk-container-id-1 label.sk-toggleable__label-arrow:hover:before {color: black;}#sk-container-id-1 div.sk-estimator:hover label.sk-toggleable__label-arrow:before {color: black;}#sk-container-id-1 div.sk-toggleable__content {max-height: 0;max-width: 0;overflow: hidden;text-align: left;background-color: #f0f8ff;}#sk-container-id-1 div.sk-toggleable__content pre {margin: 0.2em;color: black;border-radius: 0.25em;background-color: #f0f8ff;}#sk-container-id-1 input.sk-toggleable__control:checked~div.sk-toggleable__content {max-height: 200px;max-width: 100%;overflow: auto;}#sk-container-id-1 input.sk-toggleable__control:checked~label.sk-toggleable__label-arrow:before {content: \"▾\";}#sk-container-id-1 div.sk-estimator input.sk-toggleable__control:checked~label.sk-toggleable__label {background-color: #d4ebff;}#sk-container-id-1 div.sk-label input.sk-toggleable__control:checked~label.sk-toggleable__label {background-color: #d4ebff;}#sk-container-id-1 input.sk-hidden--visually {border: 0;clip: rect(1px 1px 1px 1px);clip: rect(1px, 1px, 1px, 1px);height: 1px;margin: -1px;overflow: hidden;padding: 0;position: absolute;width: 1px;}#sk-container-id-1 div.sk-estimator {font-family: monospace;background-color: #f0f8ff;border: 1px dotted black;border-radius: 0.25em;box-sizing: border-box;margin-bottom: 0.5em;}#sk-container-id-1 div.sk-estimator:hover {background-color: #d4ebff;}#sk-container-id-1 div.sk-parallel-item::after {content: \"\";width: 100%;border-bottom: 1px solid gray;flex-grow: 1;}#sk-container-id-1 div.sk-label:hover label.sk-toggleable__label {background-color: #d4ebff;}#sk-container-id-1 div.sk-serial::before {content: \"\";position: absolute;border-left: 1px solid gray;box-sizing: border-box;top: 0;bottom: 0;left: 50%;z-index: 0;}#sk-container-id-1 div.sk-serial {display: flex;flex-direction: column;align-items: center;background-color: white;padding-right: 0.2em;padding-left: 0.2em;position: relative;}#sk-container-id-1 div.sk-item {position: relative;z-index: 1;}#sk-container-id-1 div.sk-parallel {display: flex;align-items: stretch;justify-content: center;background-color: white;position: relative;}#sk-container-id-1 div.sk-item::before, #sk-container-id-1 div.sk-parallel-item::before {content: \"\";position: absolute;border-left: 1px solid gray;box-sizing: border-box;top: 0;bottom: 0;left: 50%;z-index: -1;}#sk-container-id-1 div.sk-parallel-item {display: flex;flex-direction: column;z-index: 1;position: relative;background-color: white;}#sk-container-id-1 div.sk-parallel-item:first-child::after {align-self: flex-end;width: 50%;}#sk-container-id-1 div.sk-parallel-item:last-child::after {align-self: flex-start;width: 50%;}#sk-container-id-1 div.sk-parallel-item:only-child::after {width: 0;}#sk-container-id-1 div.sk-dashed-wrapped {border: 1px dashed gray;margin: 0 0.4em 0.5em 0.4em;box-sizing: border-box;padding-bottom: 0.4em;background-color: white;}#sk-container-id-1 div.sk-label label {font-family: monospace;font-weight: bold;display: inline-block;line-height: 1.2em;}#sk-container-id-1 div.sk-label-container {text-align: center;}#sk-container-id-1 div.sk-container {/* jupyter's `normalize.less` sets `[hidden] { display: none; }` but bootstrap.min.css set `[hidden] { display: none !important; }` so we also need the `!important` here to be able to override the default hidden behavior on the sphinx rendered scikit-learn.org. See: https://github.com/scikit-learn/scikit-learn/issues/21755 */display: inline-block !important;position: relative;}#sk-container-id-1 div.sk-text-repr-fallback {display: none;}</style><div id=\"sk-container-id-1\" class=\"sk-top-container\"><div class=\"sk-text-repr-fallback\"><pre>TfidfVectorizer(stop_words=&#x27;english&#x27;)</pre><b>In a Jupyter environment, please rerun this cell to show the HTML representation or trust the notebook. <br />On GitHub, the HTML representation is unable to render, please try loading this page with nbviewer.org.</b></div><div class=\"sk-container\" hidden><div class=\"sk-item\"><div class=\"sk-estimator sk-toggleable\"><input class=\"sk-toggleable__control sk-hidden--visually\" id=\"sk-estimator-id-1\" type=\"checkbox\" checked><label for=\"sk-estimator-id-1\" class=\"sk-toggleable__label sk-toggleable__label-arrow\">TfidfVectorizer</label><div class=\"sk-toggleable__content\"><pre>TfidfVectorizer(stop_words=&#x27;english&#x27;)</pre></div></div></div></div></div>"
            ],
            "text/plain": [
              "TfidfVectorizer(stop_words='english')"
            ]
          },
          "execution_count": 28,
          "metadata": {},
          "output_type": "execute_result"
        }
      ],
      "source": [
        "feat_vect=TfidfVectorizer(stop_words='english',lowercase=True)\n",
        "feat_vect"
      ]
    },
    {
      "cell_type": "code",
      "execution_count": null,
      "id": "151cd797",
      "metadata": {
        "id": "151cd797"
      },
      "outputs": [],
      "source": [
        "ytrain=ytrain.astype('int')\n",
        "ytest=ytest.astype('int')"
      ]
    },
    {
      "cell_type": "code",
      "execution_count": null,
      "id": "53e78ed2",
      "metadata": {
        "id": "53e78ed2"
      },
      "outputs": [],
      "source": [
        "xtrain_vec =feat_vect.fit_transform(xtrain)"
      ]
    },
    {
      "cell_type": "code",
      "execution_count": null,
      "id": "16ab9b3d",
      "metadata": {
        "id": "16ab9b3d",
        "outputId": "e4a5eda6-d823-46aa-d82b-2b33013234cf"
      },
      "outputs": [
        {
          "name": "stdout",
          "output_type": "stream",
          "text": [
            "3075    Mum, hope you are having a great day. Hoping t...\n",
            "1787                           Yes:)sura in sun tv.:)lol.\n",
            "1614    Me sef dey laugh you. Meanwhile how's my darli...\n",
            "4304                Yo come over carlos will be here soon\n",
            "3266                    Ok then i come n pick u at engin?\n",
            "                              ...                        \n",
            "789                          Gud mrng dear hav a nice day\n",
            "968             Are you willing to go for aptitude class.\n",
            "1667    So now my dad is gonna call after he gets out ...\n",
            "3321    Ok darlin i supose it was ok i just worry too ...\n",
            "1688                     Nan sonathaya soladha. Why boss?\n",
            "Name: SMS, Length: 4457, dtype: object\n"
          ]
        }
      ],
      "source": [
        "xtest_vec =feat_vect.transform(xtest)\n",
        "print(xtrain)"
      ]
    },
    {
      "cell_type": "code",
      "execution_count": null,
      "id": "6b39e195",
      "metadata": {
        "id": "6b39e195",
        "outputId": "af3bfdc4-5d0d-4f74-cf84-154266d4c17c"
      },
      "outputs": [
        {
          "name": "stdout",
          "output_type": "stream",
          "text": [
            "xtrain--->   (0, 741)\t0.3219352588930141\n",
            "  (0, 3979)\t0.2410582143632299\n",
            "  (0, 4296)\t0.3891385935794867\n",
            "  (0, 6599)\t0.20296878731699391\n",
            "  (0, 3386)\t0.3219352588930141\n",
            "  (0, 2122)\t0.38613577623520473\n",
            "  (0, 3136)\t0.440116181574609\n",
            "  (0, 3262)\t0.25877035357606315\n",
            "  (0, 3380)\t0.21807195185332803\n",
            "  (0, 4513)\t0.2909649098524696\n",
            "  (1, 4061)\t0.380431198316959\n",
            "  (1, 6872)\t0.4306015894277422\n",
            "  (1, 6417)\t0.4769136859540388\n",
            "  (1, 6442)\t0.5652509076654626\n",
            "  (1, 7443)\t0.35056971070320353\n",
            "  (2, 933)\t0.4917598465723273\n",
            "  (2, 2109)\t0.42972812260098503\n",
            "  (2, 3917)\t0.40088501350982736\n",
            "  (2, 2226)\t0.413484525934624\n",
            "  (2, 5825)\t0.4917598465723273\n",
            "  (3, 6140)\t0.4903863168693604\n",
            "  (3, 1599)\t0.5927091854194291\n",
            "  (3, 1842)\t0.3708680641487708\n",
            "  (3, 7453)\t0.5202633571003087\n",
            "  (4, 2531)\t0.7419319091456392\n",
            "  :\t:\n",
            "  (4452, 2122)\t0.31002103760284144\n",
            "  (4453, 999)\t0.6760129013031282\n",
            "  (4453, 7273)\t0.5787739591782677\n",
            "  (4453, 1762)\t0.45610005640082985\n",
            "  (4454, 3029)\t0.42618909997886\n",
            "  (4454, 2086)\t0.3809693742808703\n",
            "  (4454, 3088)\t0.34475593009514444\n",
            "  (4454, 2001)\t0.4166919007849217\n",
            "  (4454, 1049)\t0.31932060116006045\n",
            "  (4454, 7346)\t0.31166263834107377\n",
            "  (4454, 5370)\t0.42618909997886\n",
            "  (4455, 1148)\t0.38998123077430413\n",
            "  (4455, 6433)\t0.38998123077430413\n",
            "  (4455, 6361)\t0.25697343671652706\n",
            "  (4455, 2764)\t0.3226323745940581\n",
            "  (4455, 7358)\t0.2915949626395065\n",
            "  (4455, 7407)\t0.3028481995557642\n",
            "  (4455, 2108)\t0.3136468384526087\n",
            "  (4455, 4251)\t0.30616657078392584\n",
            "  (4455, 3763)\t0.16807158405536876\n",
            "  (4455, 4773)\t0.35860460546223444\n",
            "  (4456, 6117)\t0.5304350313291551\n",
            "  (4456, 6133)\t0.5304350313291551\n",
            "  (4456, 1386)\t0.4460036316446079\n",
            "  (4456, 4557)\t0.48821933148688146\n",
            "xtest---->   (0, 6007)\t0.537093591660729\n",
            "  (0, 4294)\t0.5159375448718375\n",
            "  (0, 1537)\t0.667337188824809\n",
            "  (1, 7222)\t0.23059492898537967\n",
            "  (1, 6599)\t0.14954692788663673\n",
            "  (1, 6579)\t0.2733682162643466\n",
            "  (1, 5501)\t0.28671640581392144\n",
            "  (1, 5347)\t0.2733682162643466\n",
            "  (1, 5250)\t0.28671640581392144\n",
            "  (1, 4045)\t0.250549335510249\n",
            "  (1, 3365)\t0.28671640581392144\n",
            "  (1, 3300)\t0.37297727661877506\n",
            "  (1, 2899)\t0.1385795841356552\n",
            "  (1, 602)\t0.28671640581392144\n",
            "  (1, 520)\t0.19344507865262492\n",
            "  (1, 321)\t0.28671640581392144\n",
            "  (1, 43)\t0.24547458936715758\n",
            "  (1, 1)\t0.21260233518669946\n",
            "  (2, 6701)\t0.30969080396105314\n",
            "  (2, 6648)\t0.3410121739015846\n",
            "  (2, 4070)\t0.44361668503137164\n",
            "  (2, 2941)\t0.6068486133983123\n",
            "  (2, 2939)\t0.47195476517479323\n",
            "  (3, 7101)\t0.29334330258175106\n",
            "  (3, 6746)\t0.2031810874151213\n",
            "  :\t:\n",
            "  (1111, 7415)\t0.4945753828645536\n",
            "  (1111, 6848)\t0.39685462025643714\n",
            "  (1111, 6093)\t0.4671914311419049\n",
            "  (1111, 3259)\t0.4477622081928626\n",
            "  (1111, 2458)\t0.42325261089251354\n",
            "  (1112, 4903)\t0.4770390302498559\n",
            "  (1112, 4282)\t0.3509184569755111\n",
            "  (1112, 3432)\t0.36314080337211135\n",
            "  (1112, 3259)\t0.36314080337211135\n",
            "  (1112, 2780)\t0.374513931687687\n",
            "  (1112, 2704)\t0.3704547809702326\n",
            "  (1112, 2114)\t0.3287097264348074\n",
            "  (1113, 6846)\t0.4168758749641195\n",
            "  (1113, 5806)\t0.488439471695463\n",
            "  (1113, 3963)\t0.3910346709289789\n",
            "  (1113, 3239)\t0.488439471695463\n",
            "  (1113, 1657)\t0.44289971323548966\n",
            "  (1114, 7295)\t0.33014792863496223\n",
            "  (1114, 6902)\t0.3063326681877805\n",
            "  (1114, 5565)\t0.5010303679312903\n",
            "  (1114, 5073)\t0.3194139844000448\n",
            "  (1114, 3564)\t0.40844238751288037\n",
            "  (1114, 2899)\t0.2421646568502054\n",
            "  (1114, 2862)\t0.38140394975458775\n",
            "  (1114, 2352)\t0.270495916357943\n"
          ]
        }
      ],
      "source": [
        "xtrain_vec\n",
        "print(\"xtrain--->\",xtrain_vec)\n",
        "print(\"xtest---->\",xtest_vec)"
      ]
    },
    {
      "cell_type": "code",
      "execution_count": null,
      "id": "10624e38",
      "metadata": {
        "id": "10624e38"
      },
      "outputs": [],
      "source": [
        "model=LogisticRegression()"
      ]
    },
    {
      "cell_type": "code",
      "execution_count": null,
      "id": "a1a1a5bc",
      "metadata": {
        "id": "a1a1a5bc",
        "outputId": "10ad978a-0705-4a2d-e662-62e90575d4ef"
      },
      "outputs": [
        {
          "data": {
            "text/html": [
              "<style>#sk-container-id-2 {color: black;background-color: white;}#sk-container-id-2 pre{padding: 0;}#sk-container-id-2 div.sk-toggleable {background-color: white;}#sk-container-id-2 label.sk-toggleable__label {cursor: pointer;display: block;width: 100%;margin-bottom: 0;padding: 0.3em;box-sizing: border-box;text-align: center;}#sk-container-id-2 label.sk-toggleable__label-arrow:before {content: \"▸\";float: left;margin-right: 0.25em;color: #696969;}#sk-container-id-2 label.sk-toggleable__label-arrow:hover:before {color: black;}#sk-container-id-2 div.sk-estimator:hover label.sk-toggleable__label-arrow:before {color: black;}#sk-container-id-2 div.sk-toggleable__content {max-height: 0;max-width: 0;overflow: hidden;text-align: left;background-color: #f0f8ff;}#sk-container-id-2 div.sk-toggleable__content pre {margin: 0.2em;color: black;border-radius: 0.25em;background-color: #f0f8ff;}#sk-container-id-2 input.sk-toggleable__control:checked~div.sk-toggleable__content {max-height: 200px;max-width: 100%;overflow: auto;}#sk-container-id-2 input.sk-toggleable__control:checked~label.sk-toggleable__label-arrow:before {content: \"▾\";}#sk-container-id-2 div.sk-estimator input.sk-toggleable__control:checked~label.sk-toggleable__label {background-color: #d4ebff;}#sk-container-id-2 div.sk-label input.sk-toggleable__control:checked~label.sk-toggleable__label {background-color: #d4ebff;}#sk-container-id-2 input.sk-hidden--visually {border: 0;clip: rect(1px 1px 1px 1px);clip: rect(1px, 1px, 1px, 1px);height: 1px;margin: -1px;overflow: hidden;padding: 0;position: absolute;width: 1px;}#sk-container-id-2 div.sk-estimator {font-family: monospace;background-color: #f0f8ff;border: 1px dotted black;border-radius: 0.25em;box-sizing: border-box;margin-bottom: 0.5em;}#sk-container-id-2 div.sk-estimator:hover {background-color: #d4ebff;}#sk-container-id-2 div.sk-parallel-item::after {content: \"\";width: 100%;border-bottom: 1px solid gray;flex-grow: 1;}#sk-container-id-2 div.sk-label:hover label.sk-toggleable__label {background-color: #d4ebff;}#sk-container-id-2 div.sk-serial::before {content: \"\";position: absolute;border-left: 1px solid gray;box-sizing: border-box;top: 0;bottom: 0;left: 50%;z-index: 0;}#sk-container-id-2 div.sk-serial {display: flex;flex-direction: column;align-items: center;background-color: white;padding-right: 0.2em;padding-left: 0.2em;position: relative;}#sk-container-id-2 div.sk-item {position: relative;z-index: 1;}#sk-container-id-2 div.sk-parallel {display: flex;align-items: stretch;justify-content: center;background-color: white;position: relative;}#sk-container-id-2 div.sk-item::before, #sk-container-id-2 div.sk-parallel-item::before {content: \"\";position: absolute;border-left: 1px solid gray;box-sizing: border-box;top: 0;bottom: 0;left: 50%;z-index: -1;}#sk-container-id-2 div.sk-parallel-item {display: flex;flex-direction: column;z-index: 1;position: relative;background-color: white;}#sk-container-id-2 div.sk-parallel-item:first-child::after {align-self: flex-end;width: 50%;}#sk-container-id-2 div.sk-parallel-item:last-child::after {align-self: flex-start;width: 50%;}#sk-container-id-2 div.sk-parallel-item:only-child::after {width: 0;}#sk-container-id-2 div.sk-dashed-wrapped {border: 1px dashed gray;margin: 0 0.4em 0.5em 0.4em;box-sizing: border-box;padding-bottom: 0.4em;background-color: white;}#sk-container-id-2 div.sk-label label {font-family: monospace;font-weight: bold;display: inline-block;line-height: 1.2em;}#sk-container-id-2 div.sk-label-container {text-align: center;}#sk-container-id-2 div.sk-container {/* jupyter's `normalize.less` sets `[hidden] { display: none; }` but bootstrap.min.css set `[hidden] { display: none !important; }` so we also need the `!important` here to be able to override the default hidden behavior on the sphinx rendered scikit-learn.org. See: https://github.com/scikit-learn/scikit-learn/issues/21755 */display: inline-block !important;position: relative;}#sk-container-id-2 div.sk-text-repr-fallback {display: none;}</style><div id=\"sk-container-id-2\" class=\"sk-top-container\"><div class=\"sk-text-repr-fallback\"><pre>LogisticRegression()</pre><b>In a Jupyter environment, please rerun this cell to show the HTML representation or trust the notebook. <br />On GitHub, the HTML representation is unable to render, please try loading this page with nbviewer.org.</b></div><div class=\"sk-container\" hidden><div class=\"sk-item\"><div class=\"sk-estimator sk-toggleable\"><input class=\"sk-toggleable__control sk-hidden--visually\" id=\"sk-estimator-id-2\" type=\"checkbox\" checked><label for=\"sk-estimator-id-2\" class=\"sk-toggleable__label sk-toggleable__label-arrow\">LogisticRegression</label><div class=\"sk-toggleable__content\"><pre>LogisticRegression()</pre></div></div></div></div></div>"
            ],
            "text/plain": [
              "LogisticRegression()"
            ]
          },
          "execution_count": 34,
          "metadata": {},
          "output_type": "execute_result"
        }
      ],
      "source": [
        "model.fit(xtrain_vec,ytrain)"
      ]
    },
    {
      "cell_type": "code",
      "execution_count": null,
      "id": "e674ae25",
      "metadata": {
        "id": "e674ae25",
        "outputId": "e275e9de-bc6e-4c52-bf2f-9cb6c4b3aa54"
      },
      "outputs": [
        {
          "data": {
            "text/plain": [
              "0.9661207089970832"
            ]
          },
          "execution_count": 35,
          "metadata": {},
          "output_type": "execute_result"
        }
      ],
      "source": [
        "model.score(xtrain_vec,ytrain)"
      ]
    },
    {
      "cell_type": "code",
      "execution_count": null,
      "id": "85773fd9",
      "metadata": {
        "id": "85773fd9",
        "outputId": "bd2e7022-e518-45a2-c129-78fa7adbf64b"
      },
      "outputs": [
        {
          "data": {
            "text/plain": [
              "0.9623318385650225"
            ]
          },
          "execution_count": 36,
          "metadata": {},
          "output_type": "execute_result"
        }
      ],
      "source": [
        "model.score(xtest_vec,ytest)"
      ]
    },
    {
      "cell_type": "code",
      "execution_count": null,
      "id": "96bb8fff",
      "metadata": {
        "id": "96bb8fff",
        "outputId": "1da49e7c-0395-4e88-d846-dc69a588a776"
      },
      "outputs": [
        {
          "data": {
            "text/plain": [
              "array([1, 1, 1, ..., 1, 1, 1])"
            ]
          },
          "execution_count": 37,
          "metadata": {},
          "output_type": "execute_result"
        }
      ],
      "source": [
        "predict_model=model.predict(xtest_vec)\n",
        "predict_model"
      ]
    },
    {
      "cell_type": "code",
      "execution_count": null,
      "id": "c1038f32",
      "metadata": {
        "id": "c1038f32",
        "outputId": "b714877f-a330-4dbe-d7f8-8bf6cae485ad"
      },
      "outputs": [
        {
          "data": {
            "text/plain": [
              "0.9623318385650225"
            ]
          },
          "execution_count": 38,
          "metadata": {},
          "output_type": "execute_result"
        }
      ],
      "source": [
        "accuracy_score(ytest,predict_model)"
      ]
    },
    {
      "cell_type": "code",
      "execution_count": null,
      "id": "42283fc2",
      "metadata": {
        "id": "42283fc2",
        "outputId": "12c8c2df-f6e1-4b14-e8e7-7fdac16100d4"
      },
      "outputs": [
        {
          "data": {
            "text/plain": [
              "array([[114,  41],\n",
              "       [  1, 959]], dtype=int64)"
            ]
          },
          "execution_count": 39,
          "metadata": {},
          "output_type": "execute_result"
        }
      ],
      "source": [
        "confusion_matrix(ytest,predict_model)"
      ]
    },
    {
      "cell_type": "code",
      "execution_count": null,
      "id": "ffefee2d",
      "metadata": {
        "id": "ffefee2d",
        "outputId": "e5935dc2-a09c-499f-e0f1-549b8d177e65"
      },
      "outputs": [
        {
          "name": "stdout",
          "output_type": "stream",
          "text": [
            "              precision    recall  f1-score   support\n",
            "\n",
            "           0       0.99      0.74      0.84       155\n",
            "           1       0.96      1.00      0.98       960\n",
            "\n",
            "    accuracy                           0.96      1115\n",
            "   macro avg       0.98      0.87      0.91      1115\n",
            "weighted avg       0.96      0.96      0.96      1115\n",
            "\n"
          ]
        }
      ],
      "source": [
        "print(classification_report(ytest,predict_model))"
      ]
    }
  ],
  "metadata": {
    "kernelspec": {
      "display_name": "Python 3 (ipykernel)",
      "language": "python",
      "name": "python3"
    },
    "language_info": {
      "codemirror_mode": {
        "name": "ipython",
        "version": 3
      },
      "file_extension": ".py",
      "mimetype": "text/x-python",
      "name": "python",
      "nbconvert_exporter": "python",
      "pygments_lexer": "ipython3",
      "version": "3.10.9"
    },
    "colab": {
      "provenance": []
    }
  },
  "nbformat": 4,
  "nbformat_minor": 5
}